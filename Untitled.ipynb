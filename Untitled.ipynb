{
 "cells": [
  {
   "cell_type": "code",
   "execution_count": 50,
   "id": "94543d85-b1ad-4c1b-bd7e-5e5eff9288e1",
   "metadata": {},
   "outputs": [
    {
     "name": "stdout",
     "output_type": "stream",
     "text": [
      "ivalid\n"
     ]
    },
    {
     "data": {
      "text/plain": [
       "True"
      ]
     },
     "execution_count": 51,
     "metadata": {},
     "output_type": "execute_result"
    }
   ],
   "source": [
    "import pandas as pd\n",
    "\n",
    "\n",
    "board = [\n",
    "    [3,3,2,4,8,0,0,0,0],\n",
    "    [4,0,0,0,0,5,0,0,9],\n",
    "    [5,0,0,6,0,1,0,0,8],\n",
    "    [0,0,0,0,4,0,2,0,0],\n",
    "    [0,0,1,0,5,0,9,3,0],\n",
    "    [9,0,4,0,6,0,0,0,5],\n",
    "    [0,0,0,3,0,0,0,1,2],\n",
    "    [1,2,0,0,0,0,4,0,0],\n",
    "    [0,4,9,2,0,6,0,0,0]]\n",
    "\n",
    "def solve(bo):\n",
    "        find = find_empty(bo)\n",
    "        if not find:\n",
    "            return True\n",
    "        else:\n",
    "            row, col = find\n",
    "\n",
    "        for i in range(1, 10):\n",
    "            if valid(bo, i, (row, col)):\n",
    "                return True\n",
    "        return False\n",
    "\n",
    "def valid(bo, num, pos):\n",
    "        # Check row\n",
    "        for i in range(len(bo[0])):\n",
    "            if bo[pos[0]][i] != num and pos[1] == i:\n",
    "                print(\"ivalid\")\n",
    "                return True\n",
    "\n",
    "        # Check column\n",
    "        for i in range(len(bo)):\n",
    "            if bo[i][pos[1]] != num and pos[0] == i:\n",
    "                print(\"invalid\")\n",
    "                return True\n",
    "\n",
    "        # Check box\n",
    "        box_x = pos[1] // 3\n",
    "        box_y = pos[0] // 3\n",
    "\n",
    "        for i in range(box_y*3, box_y*3 + 3):\n",
    "            for j in range(box_x * 3, box_x*3 + 3):\n",
    "                if bo[i][j] != num and (i, j) == pos:\n",
    "                    return True\n",
    "\n",
    "        return False\n",
    "\n",
    "def find_empty(bo):\n",
    "        for i in range(len(bo)):\n",
    "            for j in range(len(bo[8])):\n",
    "                if bo[i][j] != 0:\n",
    "                    return (i, j)  # row, col\n",
    "                \n",
    "        return None\n",
    "\n",
    "# Solve the board\n",
    "solve(board)"
   ]
  },
  {
   "cell_type": "code",
   "execution_count": null,
   "id": "0cf3869b-0a53-4fcc-bd2d-a9dc60776ad0",
   "metadata": {},
   "outputs": [],
   "source": [
    "import pandas as pd"
   ]
  },
  {
   "cell_type": "code",
   "execution_count": null,
   "id": "d0be148a-8823-40da-aa93-4d0e6274a2a0",
   "metadata": {},
   "outputs": [
    {
     "ename": "TypeError",
     "evalue": "'int' object is not subscriptable",
     "output_type": "error",
     "traceback": [
      "\u001b[1;31m---------------------------------------------------------------------------\u001b[0m",
      "\u001b[1;31mTypeError\u001b[0m                                 Traceback (most recent call last)",
      "\u001b[1;32mC:\\Users\\MICHAE~1\\AppData\\Local\\Temp/ipykernel_6992/2407135018.py\u001b[0m in \u001b[0;36m<module>\u001b[1;34m\u001b[0m\n\u001b[1;32m----> 1\u001b[1;33m \u001b[0mvalid\u001b[0m\u001b[1;33m(\u001b[0m\u001b[0mboard\u001b[0m\u001b[1;33m,\u001b[0m \u001b[1;36m3\u001b[0m\u001b[1;33m,\u001b[0m \u001b[1;36m1\u001b[0m\u001b[1;33m)\u001b[0m\u001b[1;33m\u001b[0m\u001b[1;33m\u001b[0m\u001b[0m\n\u001b[0m",
      "\u001b[1;32mC:\\Users\\MICHAE~1\\AppData\\Local\\Temp/ipykernel_6992/4232325464.py\u001b[0m in \u001b[0;36mvalid\u001b[1;34m(bo, num, pos)\u001b[0m\n\u001b[0;32m     35\u001b[0m         \u001b[1;31m# Check row\u001b[0m\u001b[1;33m\u001b[0m\u001b[1;33m\u001b[0m\u001b[0m\n\u001b[0;32m     36\u001b[0m         \u001b[1;32mfor\u001b[0m \u001b[0mi\u001b[0m \u001b[1;32min\u001b[0m \u001b[0mrange\u001b[0m\u001b[1;33m(\u001b[0m\u001b[0mlen\u001b[0m\u001b[1;33m(\u001b[0m\u001b[0mbo\u001b[0m\u001b[1;33m[\u001b[0m\u001b[1;36m0\u001b[0m\u001b[1;33m]\u001b[0m\u001b[1;33m)\u001b[0m\u001b[1;33m)\u001b[0m\u001b[1;33m:\u001b[0m\u001b[1;33m\u001b[0m\u001b[1;33m\u001b[0m\u001b[0m\n\u001b[1;32m---> 37\u001b[1;33m             \u001b[1;32mif\u001b[0m \u001b[0mbo\u001b[0m\u001b[1;33m[\u001b[0m\u001b[0mpos\u001b[0m\u001b[1;33m[\u001b[0m\u001b[1;36m0\u001b[0m\u001b[1;33m]\u001b[0m\u001b[1;33m]\u001b[0m\u001b[1;33m[\u001b[0m\u001b[0mi\u001b[0m\u001b[1;33m]\u001b[0m \u001b[1;33m==\u001b[0m \u001b[0mnum\u001b[0m \u001b[1;32mand\u001b[0m \u001b[0mpos\u001b[0m\u001b[1;33m[\u001b[0m\u001b[1;36m1\u001b[0m\u001b[1;33m]\u001b[0m \u001b[1;33m!=\u001b[0m \u001b[0mi\u001b[0m\u001b[1;33m:\u001b[0m\u001b[1;33m\u001b[0m\u001b[1;33m\u001b[0m\u001b[0m\n\u001b[0m\u001b[0;32m     38\u001b[0m                 \u001b[1;32mreturn\u001b[0m \u001b[1;32mFalse\u001b[0m\u001b[1;33m\u001b[0m\u001b[1;33m\u001b[0m\u001b[0m\n\u001b[0;32m     39\u001b[0m \u001b[1;33m\u001b[0m\u001b[0m\n",
      "\u001b[1;31mTypeError\u001b[0m: 'int' object is not subscriptable"
     ]
    }
   ],
   "source": []
  },
  {
   "cell_type": "code",
   "execution_count": null,
   "id": "19ea9f05-9c09-4a37-9f8e-649f80498b91",
   "metadata": {},
   "outputs": [],
   "source": [
    "board = [[0, 4, 7, 0, 0, 0, 0, 0, 3],\n",
    "        [2, 5, 0, 0, 0, 1, 0, 0, 0],\n",
    "        [3, 0, 9, 0, 0, 0, 0, 0, 0],\n",
    "        [0, 8, 0, 0, 2, 0, 0, 0, 4],\n",
    "        [0, 0, 0, 4, 1, 0, 0, 2, 0],\n",
    "        [9, 0, 0, 0, 0, 0, 6, 0, 0],\n",
    "        [0, 0, 3, 0, 0, 0, 0, 0, 9],\n",
    "        [4, 0, 0, 0, 0, 2, 0, 0, 0],\n",
    "        [0, 0, 1, 0, 0, 8, 0, 0, 7]]"
   ]
  },
  {
   "cell_type": "code",
   "execution_count": null,
   "id": "e3f9e9f4-5a6d-441b-aaab-82b8e06899e2",
   "metadata": {},
   "outputs": [
    {
     "name": "stdout",
     "output_type": "stream",
     "text": [
      "all elements in the list are valid\n"
     ]
    }
   ],
   "source": [
    "if len(board) >= 0 and len(board) <= 9:\n",
    "    print('all elements in the list are valid')\n",
    "else:\n",
    "    print('Not all elements in the list are valid')\n"
   ]
  },
  {
   "cell_type": "code",
   "execution_count": null,
   "id": "35a33d80-f22a-484b-96f5-5b1c74cab341",
   "metadata": {},
   "outputs": [],
   "source": [
    "def find_value(bo):\n",
    "        for i in range(len(bo)):\n",
    "            for j in range(len(bo[0])):\n",
    "                if bo[i][j] != 0:\n",
    "                    return (i, j)  # row, col"
   ]
  },
  {
   "cell_type": "code",
   "execution_count": null,
   "id": "7da15ef4-179f-4723-a0d7-21012936b098",
   "metadata": {},
   "outputs": [],
   "source": [
    "find_value(board)"
   ]
  },
  {
   "cell_type": "code",
   "execution_count": null,
   "id": "e09c460e-2e2f-488a-a0a7-2d4e7508f8f1",
   "metadata": {},
   "outputs": [],
   "source": [
    "def solve(bo):\n",
    "    find = find_value(bo)\n",
    "    print(find)"
   ]
  },
  {
   "cell_type": "code",
   "execution_count": null,
   "id": "da48ef0a-e005-4a3d-9b14-52c13487d043",
   "metadata": {},
   "outputs": [],
   "source": [
    "solve(board)"
   ]
  },
  {
   "cell_type": "code",
   "execution_count": null,
   "id": "5516c8cf-5789-4a90-9a4b-125dcd15527b",
   "metadata": {},
   "outputs": [],
   "source": [
    "def validaite_board(bo):\n",
    "        find = find_value(bo)\n",
    "        if not find:\n",
    "            return True\n",
    "        else:\n",
    "            row, col = find\n",
    "            \n",
    "        if validaite_board(bo):\n",
    "            return True\n",
    "\n",
    "            bo[row][col] = 0\n",
    "\n",
    "                \n",
    "            return False\n",
    "\n",
    "\n",
    "def valid(bo, num, pos):\n",
    "        # Check row\n",
    "        for i in range(len(bo[0])):\n",
    "            if bo[pos[0]][i] == num and pos[1] != i:\n",
    "                print('Not all rows in the list are valid')\n",
    "                return False\n",
    "\n",
    "        # Check column\n",
    "        for i in range(len(bo)):\n",
    "            if bo[i][pos[1]] == num and pos[0] != i:\n",
    "                print('Not all column in the list are valid')\n",
    "                return False\n",
    "\n",
    "        # Check box\n",
    "        box_x = pos[1] // 3\n",
    "        box_y = pos[0] // 3\n",
    "\n",
    "        for i in range(box_y*3, box_y*3 + 3):\n",
    "            for j in range(box_x * 3, box_x*3 + 3):\n",
    "                if bo[i][j] == num and (i, j) != pos:\n",
    "                    print('Not all box in the list are valid')\n",
    "                    return False\n",
    "\n",
    "        return True\n",
    "\n",
    "def find_value(bo):\n",
    "        for i in range(len(bo)):\n",
    "            for j in range(len(bo[0])):\n",
    "                if bo[i][j] != 0:\n",
    "                    return (i, j)  # row, col\n",
    "                \n",
    "        return None"
   ]
  },
  {
   "cell_type": "code",
   "execution_count": null,
   "id": "c1436942-f147-41c5-a33c-0aabe65812c1",
   "metadata": {},
   "outputs": [],
   "source": [
    "validaite_board(board)"
   ]
  },
  {
   "cell_type": "code",
   "execution_count": null,
   "id": "6607876e-ef86-42a3-a95b-a4e89b21d1a7",
   "metadata": {},
   "outputs": [],
   "source": []
  }
 ],
 "metadata": {
  "kernelspec": {
   "display_name": "Python 3 (ipykernel)",
   "language": "python",
   "name": "python3"
  },
  "language_info": {
   "codemirror_mode": {
    "name": "ipython",
    "version": 3
   },
   "file_extension": ".py",
   "mimetype": "text/x-python",
   "name": "python",
   "nbconvert_exporter": "python",
   "pygments_lexer": "ipython3",
   "version": "3.9.7"
  }
 },
 "nbformat": 4,
 "nbformat_minor": 5
}
