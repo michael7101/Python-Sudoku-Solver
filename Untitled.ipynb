{
 "cells": [
  {
   "cell_type": "code",
   "execution_count": 1,
   "id": "ff640128-4457-4e9d-be21-765bf2f1c5c2",
   "metadata": {},
   "outputs": [],
   "source": [
    "def is_valid_sudoku(puzzle):\n",
    "  # Check that the puzzle has 9 rows and 9 columns\n",
    "  if len(puzzle) != 9 or all(len(row) == 9 for row in puzzle):\n",
    "    return False"
   ]
  },
  {
   "cell_type": "code",
   "execution_count": null,
   "id": "803ef77f-beda-47d8-ba7f-a3b8bbd0fd41",
   "metadata": {},
   "outputs": [],
   "source": []
  },
  {
   "cell_type": "code",
   "execution_count": 2,
   "id": "5494f8cc-8488-4563-966c-4ca49f8fadab",
   "metadata": {},
   "outputs": [
    {
     "ename": "IndentationError",
     "evalue": "unexpected indent (Temp/ipykernel_17080/1065001316.py, line 2)",
     "output_type": "error",
     "traceback": [
      "\u001b[1;36m  File \u001b[1;32m\"C:\\Users\\MICHAE~1\\AppData\\Local\\Temp/ipykernel_17080/1065001316.py\"\u001b[1;36m, line \u001b[1;32m2\u001b[0m\n\u001b[1;33m    for row in puzzle:\u001b[0m\n\u001b[1;37m    ^\u001b[0m\n\u001b[1;31mIndentationError\u001b[0m\u001b[1;31m:\u001b[0m unexpected indent\n"
     ]
    }
   ],
   "source": []
  },
  {
   "cell_type": "code",
   "execution_count": null,
   "id": "0c891f1e-1d21-441a-8e24-c3f49ce58f22",
   "metadata": {},
   "outputs": [],
   "source": [
    "# Check that each row, column, and 3x3 subgrid contains unique digits\n",
    "  for i in range(9):\n",
    "    row_set = set()\n",
    "    column_set = set()\n",
    "    subgrid_set = set()\n",
    "    for j in range(9):\n",
    "        if puzzle[i][j] != '.' and puzzle[i][j] in row_set:\n",
    "        return False\n",
    "      row_set.add(puzzle[i][j])\n",
    "        if puzzle[j][i] != '.' and puzzle[j][i] in column_set:\n",
    "        return False\n",
    "      column_set.add(puzzle[j][i])\n",
    "        if puzzle[i//3*3+j//3][i%3*3+j%3] != '.' and puzzle[i//3*3+j//3][i%3*3+j%3] in subgrid_set:\n",
    "        return False\n",
    "      subgrid_set.add(puzzle[i//3*3+j//3][i%3*3+j%3])\n",
    "        return True"
   ]
  },
  {
   "cell_type": "code",
   "execution_count": null,
   "id": "d24fcd45-82c2-43eb-b6b6-6748e176d1a0",
   "metadata": {},
   "outputs": [],
   "source": [
    "puzzle = [  ['5', '3', '.', '.', '7', '.', '.', '.', '.'],\n",
    "  ['6', '.', '.', '1', '9', '5', '.', '.', '.'],\n",
    "  ['.', '9', '8', '.', '.', '.', '.', '6', '.'],\n",
    "  ['8', '.', '.', '.', '6', '.', '.', '.', '3'],\n",
    "  ['4', '.', '.', '8', '.', '3', '.', '.', '1'],\n",
    "  ['7', '.', '.', '.', '2', '.', '.', '.', '6'],\n",
    "  ['.', '6', '.', '.', '.', '.', '2', '8', '.'],\n",
    "  ['.', '.', '.', '4', '1', '9', '.', '.', '5'],\n",
    "  ['.', '.', '.', '.', '8', '.', '.', '7', '9']\n",
    "]\n",
    "\n",
    "if is_valid_sudoku(puzzle"
   ]
  }
 ],
 "metadata": {
  "kernelspec": {
   "display_name": "Python 3 (ipykernel)",
   "language": "python",
   "name": "python3"
  },
  "language_info": {
   "codemirror_mode": {
    "name": "ipython",
    "version": 3
   },
   "file_extension": ".py",
   "mimetype": "text/x-python",
   "name": "python",
   "nbconvert_exporter": "python",
   "pygments_lexer": "ipython3",
   "version": "3.9.7"
  }
 },
 "nbformat": 4,
 "nbformat_minor": 5
}
