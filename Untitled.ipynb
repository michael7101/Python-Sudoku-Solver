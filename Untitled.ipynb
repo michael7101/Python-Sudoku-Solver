{
 "cells": [
  {
   "cell_type": "code",
   "execution_count": 10,
   "id": "0f5acd2a-7f0e-46d4-9246-c09bd0dca279",
   "metadata": {},
   "outputs": [
    {
     "ename": "IndentationError",
     "evalue": "unindent does not match any outer indentation level (<tokenize>, line 79)",
     "output_type": "error",
     "traceback": [
      "\u001b[1;36m  File \u001b[1;32m\"<tokenize>\"\u001b[1;36m, line \u001b[1;32m79\u001b[0m\n\u001b[1;33m    board_input = pd.DataFrame(board)\u001b[0m\n\u001b[1;37m    ^\u001b[0m\n\u001b[1;31mIndentationError\u001b[0m\u001b[1;31m:\u001b[0m unindent does not match any outer indentation level\n"
     ]
    }
   ],
   "source": [
    "import pandas as pd\n",
    "\n",
    "\n",
    "board = [\n",
    "    [7,8,0,4,0,9,1,2,0],\n",
    "    [6,0,0,0,7,5,0,0,9],\n",
    "    [0,0,0,6,0,1,0,7,8],\n",
    "    [0,0,7,0,4,0,2,6,0],\n",
    "    [0,0,1,0,5,0,9,3,0],\n",
    "    [9,0,4,0,6,0,0,0,5],\n",
    "    [0,7,0,3,0,0,0,1,2],\n",
    "    [1,2,0,0,0,7,4,0,0],\n",
    "    [0,4,9,2,0,6,0,0,7]\n",
    "]\n",
    "\n",
    "\n",
    "def solve(bo):\n",
    "        find = find_empty(bo)\n",
    "        if not find:\n",
    "            return True\n",
    "        else:\n",
    "            row, col = find\n",
    "\n",
    "        for i in range(1, 10):\n",
    "            if valid(bo, i, (row, col)):\n",
    "                bo[row][col] = i\n",
    "\n",
    "                if solve(bo):\n",
    "                    return True\n",
    "\n",
    "                bo[row][col] = 0\n",
    "\n",
    "        return False\n",
    "\n",
    "def valid(bo, num, pos):\n",
    "        # Check row\n",
    "        for i in range(len(bo[0])):\n",
    "            if bo[pos[0]][i] == num and pos[1] != i:\n",
    "                return False\n",
    "\n",
    "        # Check column\n",
    "        for i in range(len(bo)):\n",
    "            if bo[i][pos[1]] == num and pos[0] != i:\n",
    "                return False\n",
    "\n",
    "        # Check box\n",
    "        box_x = pos[1] // 3\n",
    "        box_y = pos[0] // 3\n",
    "\n",
    "        for i in range(box_y*3, box_y*3 + 3):\n",
    "            for j in range(box_x * 3, box_x*3 + 3):\n",
    "                if bo[i][j] == num and (i, j) != pos:\n",
    "                    return False\n",
    "\n",
    "        return True\n",
    "\n",
    "def print_board(bo):\n",
    "        for i in range(len(bo)):\n",
    "            if i % 3 == 0 and i != 0:\n",
    "                print(\"- - - - - - - - - - - - - \")\n",
    "\n",
    "            for j in range(len(bo[0])):\n",
    "                if j % 3 == 0 and j != 0:\n",
    "                    print(\" | \", end=\"\")\n",
    "\n",
    "                if j == 8:\n",
    "                    print(bo[i][j])\n",
    "                else:\n",
    "                    print(str(bo[i][j]) + \" \", end=\"\")\n",
    "\n",
    "def find_empty(bo):\n",
    "        for i in range(len(bo)):\n",
    "            for j in range(len(bo[0])):\n",
    "                if bo[i][j] == 0:\n",
    "                    return (i, j)  # row, col\n",
    "                return None\n",
    "\n",
    "# Covert board input into a Panda's DataFrame, board_input\n",
    "board_input = pd.DataFrame(board)\n",
    "\n",
    "# Solve the board\n",
    "solve(board)\n",
    "\n",
    "# Convert the file data into a Panda's DataFrame, df\n",
    "solved_board = pd.DataFrame(board)\n",
    "\n",
    "# render dataframe as html\n",
    "html1 = solved_board.to_html(index=False, header=False)\n",
    "html2 = board_input.to_html(index=False, header=False)\n",
    "\n",
    "\n"
   ]
  },
  {
   "cell_type": "code",
   "execution_count": 13,
   "id": "58c91a16-a909-4813-b189-19fc5afabfb4",
   "metadata": {},
   "outputs": [
    {
     "data": {
      "text/plain": [
       "True"
      ]
     },
     "execution_count": 13,
     "metadata": {},
     "output_type": "execute_result"
    }
   ],
   "source": []
  },
  {
   "cell_type": "code",
   "execution_count": null,
   "id": "f4267f2f-0614-43c4-947f-fc26ff0ada30",
   "metadata": {},
   "outputs": [],
   "source": []
  },
  {
   "cell_type": "code",
   "execution_count": null,
   "id": "fdadefd3-e5dc-4e2b-b901-c73d5b5b1673",
   "metadata": {},
   "outputs": [],
   "source": []
  },
  {
   "cell_type": "code",
   "execution_count": null,
   "id": "5c382e97-e1a4-48d8-b6e1-b6008043d267",
   "metadata": {},
   "outputs": [],
   "source": []
  }
 ],
 "metadata": {
  "kernelspec": {
   "display_name": "Python 3 (ipykernel)",
   "language": "python",
   "name": "python3"
  },
  "language_info": {
   "codemirror_mode": {
    "name": "ipython",
    "version": 3
   },
   "file_extension": ".py",
   "mimetype": "text/x-python",
   "name": "python",
   "nbconvert_exporter": "python",
   "pygments_lexer": "ipython3",
   "version": "3.9.7"
  }
 },
 "nbformat": 4,
 "nbformat_minor": 5
}
